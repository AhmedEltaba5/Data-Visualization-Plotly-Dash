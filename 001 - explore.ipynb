{
 "cells": [
  {
   "cell_type": "code",
   "execution_count": 1,
   "metadata": {},
   "outputs": [],
   "source": [
    "import numpy as np\n",
    "import pandas as pd\n",
    "import matplotlib.pyplot as plt\n",
    "pd.options.display.max_columns = 10000"
   ]
  },
  {
   "cell_type": "code",
   "execution_count": 2,
   "metadata": {},
   "outputs": [],
   "source": [
    "df = pd.read_csv('data/fbl_1.csv')"
   ]
  },
  {
   "cell_type": "code",
   "execution_count": 3,
   "metadata": {},
   "outputs": [
    {
     "data": {
      "text/html": [
       "<div>\n",
       "<style scoped>\n",
       "    .dataframe tbody tr th:only-of-type {\n",
       "        vertical-align: middle;\n",
       "    }\n",
       "\n",
       "    .dataframe tbody tr th {\n",
       "        vertical-align: top;\n",
       "    }\n",
       "\n",
       "    .dataframe thead th {\n",
       "        text-align: right;\n",
       "    }\n",
       "</style>\n",
       "<table border=\"1\" class=\"dataframe\">\n",
       "  <thead>\n",
       "    <tr style=\"text-align: right;\">\n",
       "      <th></th>\n",
       "      <th>element</th>\n",
       "      <th>round</th>\n",
       "      <th>assists</th>\n",
       "      <th>bonus</th>\n",
       "      <th>bps</th>\n",
       "      <th>clean_sheets</th>\n",
       "      <th>value</th>\n",
       "      <th>creativity</th>\n",
       "      <th>total_points</th>\n",
       "      <th>goals_conceded</th>\n",
       "      <th>goals_scored</th>\n",
       "      <th>ict_index</th>\n",
       "      <th>influence</th>\n",
       "      <th>minutes</th>\n",
       "      <th>opponent_team</th>\n",
       "      <th>red_cards</th>\n",
       "      <th>saves</th>\n",
       "      <th>selected_by_percent</th>\n",
       "      <th>threat</th>\n",
       "      <th>transfers_balance</th>\n",
       "      <th>was_home</th>\n",
       "      <th>yellow_cards</th>\n",
       "      <th>label</th>\n",
       "      <th>player_name</th>\n",
       "      <th>web_name</th>\n",
       "      <th>element_type</th>\n",
       "      <th>player_team</th>\n",
       "      <th>understat_id</th>\n",
       "      <th>h_team</th>\n",
       "      <th>a_team</th>\n",
       "      <th>shots</th>\n",
       "      <th>xG</th>\n",
       "      <th>xA</th>\n",
       "      <th>key_passes</th>\n",
       "      <th>npg</th>\n",
       "      <th>npxG</th>\n",
       "      <th>xGChain</th>\n",
       "      <th>xGBuildup</th>\n",
       "      <th>xG_player_team</th>\n",
       "      <th>xGA_player_team</th>\n",
       "      <th>npxG_player_team</th>\n",
       "      <th>npxGA_player_team</th>\n",
       "      <th>deep_player_team</th>\n",
       "      <th>deep_allowed_player_team</th>\n",
       "      <th>scored_player_team</th>\n",
       "      <th>missed_player_team</th>\n",
       "      <th>npxGD_player_team</th>\n",
       "      <th>ppda_att_player_team</th>\n",
       "      <th>ppda_def_player_team</th>\n",
       "      <th>ppda_allowed_att_player_team</th>\n",
       "      <th>ppda_allowed_def_player_team</th>\n",
       "      <th>xG_opponent_team</th>\n",
       "      <th>xGA_opponent_team</th>\n",
       "      <th>npxG_opponent_team</th>\n",
       "      <th>npxGA_opponent_team</th>\n",
       "      <th>deep_opponent_team</th>\n",
       "      <th>deep_allowed_opponent_team</th>\n",
       "      <th>scored_opponent_team</th>\n",
       "      <th>missed_opponent_team</th>\n",
       "      <th>npxGD_opponent_team</th>\n",
       "      <th>ppda_att_opponent_team</th>\n",
       "      <th>ppda_def_opponent_team</th>\n",
       "      <th>ppda_allowed_att_opponent_team</th>\n",
       "      <th>ppda_allowed_def_opponent_team</th>\n",
       "    </tr>\n",
       "  </thead>\n",
       "  <tbody>\n",
       "    <tr>\n",
       "      <th>0</th>\n",
       "      <td>454</td>\n",
       "      <td>1</td>\n",
       "      <td>0.10863</td>\n",
       "      <td>0.32589</td>\n",
       "      <td>17.788171</td>\n",
       "      <td>0.298733</td>\n",
       "      <td>5.5</td>\n",
       "      <td>0.0</td>\n",
       "      <td>3.611949</td>\n",
       "      <td>1.357876</td>\n",
       "      <td>0.054315</td>\n",
       "      <td>0.0</td>\n",
       "      <td>0.0</td>\n",
       "      <td>90.0</td>\n",
       "      <td>Chelsea</td>\n",
       "      <td>0.0</td>\n",
       "      <td>0.0</td>\n",
       "      <td>0.350575</td>\n",
       "      <td>0.0</td>\n",
       "      <td>0</td>\n",
       "      <td>0</td>\n",
       "      <td>0.027158</td>\n",
       "      <td>0</td>\n",
       "      <td>Aaron Cresswell</td>\n",
       "      <td>Cresswell</td>\n",
       "      <td>2</td>\n",
       "      <td>West Ham</td>\n",
       "      <td>534</td>\n",
       "      <td>Chelsea</td>\n",
       "      <td>West Ham</td>\n",
       "      <td>0.756757</td>\n",
       "      <td>0.029529</td>\n",
       "      <td>0.089044</td>\n",
       "      <td>1.081081</td>\n",
       "      <td>0.054054</td>\n",
       "      <td>0.029529</td>\n",
       "      <td>0.279442</td>\n",
       "      <td>0.184625</td>\n",
       "      <td>1.431594</td>\n",
       "      <td>1.459965</td>\n",
       "      <td>1.351471</td>\n",
       "      <td>1.299719</td>\n",
       "      <td>5.578947</td>\n",
       "      <td>6.842105</td>\n",
       "      <td>1.710526</td>\n",
       "      <td>1.342105</td>\n",
       "      <td>0.051752</td>\n",
       "      <td>222.868421</td>\n",
       "      <td>23.947368</td>\n",
       "      <td>214.447368</td>\n",
       "      <td>24.342105</td>\n",
       "      <td>1.433677</td>\n",
       "      <td>1.174375</td>\n",
       "      <td>1.333523</td>\n",
       "      <td>1.094252</td>\n",
       "      <td>9.315789</td>\n",
       "      <td>5.105263</td>\n",
       "      <td>1.552632</td>\n",
       "      <td>1.394737</td>\n",
       "      <td>0.239271</td>\n",
       "      <td>213.236842</td>\n",
       "      <td>25.0</td>\n",
       "      <td>272.026316</td>\n",
       "      <td>27.0</td>\n",
       "    </tr>\n",
       "    <tr>\n",
       "      <th>1</th>\n",
       "      <td>454</td>\n",
       "      <td>2</td>\n",
       "      <td>0.00000</td>\n",
       "      <td>0.00000</td>\n",
       "      <td>0.000000</td>\n",
       "      <td>0.000000</td>\n",
       "      <td>5.5</td>\n",
       "      <td>0.0</td>\n",
       "      <td>0.000000</td>\n",
       "      <td>0.000000</td>\n",
       "      <td>0.000000</td>\n",
       "      <td>0.0</td>\n",
       "      <td>0.0</td>\n",
       "      <td>0.0</td>\n",
       "      <td>Bournemouth</td>\n",
       "      <td>0.0</td>\n",
       "      <td>0.0</td>\n",
       "      <td>0.288275</td>\n",
       "      <td>0.0</td>\n",
       "      <td>-3002</td>\n",
       "      <td>1</td>\n",
       "      <td>0.000000</td>\n",
       "      <td>0</td>\n",
       "      <td>Aaron Cresswell</td>\n",
       "      <td>Cresswell</td>\n",
       "      <td>2</td>\n",
       "      <td>West Ham</td>\n",
       "      <td>534</td>\n",
       "      <td>West Ham</td>\n",
       "      <td>Bournemouth</td>\n",
       "      <td>0.000000</td>\n",
       "      <td>0.000000</td>\n",
       "      <td>0.000000</td>\n",
       "      <td>0.000000</td>\n",
       "      <td>0.000000</td>\n",
       "      <td>0.000000</td>\n",
       "      <td>0.000000</td>\n",
       "      <td>0.000000</td>\n",
       "      <td>0.445604</td>\n",
       "      <td>1.460300</td>\n",
       "      <td>0.445604</td>\n",
       "      <td>0.699127</td>\n",
       "      <td>3.000000</td>\n",
       "      <td>7.000000</td>\n",
       "      <td>1.000000</td>\n",
       "      <td>2.000000</td>\n",
       "      <td>-0.253523</td>\n",
       "      <td>333.000000</td>\n",
       "      <td>28.000000</td>\n",
       "      <td>213.000000</td>\n",
       "      <td>34.000000</td>\n",
       "      <td>0.522847</td>\n",
       "      <td>1.911050</td>\n",
       "      <td>0.522847</td>\n",
       "      <td>1.911050</td>\n",
       "      <td>3.000000</td>\n",
       "      <td>4.000000</td>\n",
       "      <td>1.000000</td>\n",
       "      <td>3.000000</td>\n",
       "      <td>-1.388203</td>\n",
       "      <td>351.000000</td>\n",
       "      <td>24.0</td>\n",
       "      <td>263.000000</td>\n",
       "      <td>25.0</td>\n",
       "    </tr>\n",
       "    <tr>\n",
       "      <th>2</th>\n",
       "      <td>454</td>\n",
       "      <td>3</td>\n",
       "      <td>0.00000</td>\n",
       "      <td>0.00000</td>\n",
       "      <td>0.000000</td>\n",
       "      <td>0.000000</td>\n",
       "      <td>5.4</td>\n",
       "      <td>0.0</td>\n",
       "      <td>0.000000</td>\n",
       "      <td>0.000000</td>\n",
       "      <td>0.000000</td>\n",
       "      <td>0.0</td>\n",
       "      <td>0.0</td>\n",
       "      <td>0.0</td>\n",
       "      <td>Manchester City</td>\n",
       "      <td>0.0</td>\n",
       "      <td>0.0</td>\n",
       "      <td>0.239675</td>\n",
       "      <td>0.0</td>\n",
       "      <td>-2053</td>\n",
       "      <td>0</td>\n",
       "      <td>0.000000</td>\n",
       "      <td>0</td>\n",
       "      <td>Aaron Cresswell</td>\n",
       "      <td>Cresswell</td>\n",
       "      <td>2</td>\n",
       "      <td>West Ham</td>\n",
       "      <td>534</td>\n",
       "      <td>Manchester City</td>\n",
       "      <td>West Ham</td>\n",
       "      <td>0.000000</td>\n",
       "      <td>0.000000</td>\n",
       "      <td>0.000000</td>\n",
       "      <td>0.000000</td>\n",
       "      <td>0.000000</td>\n",
       "      <td>0.000000</td>\n",
       "      <td>0.000000</td>\n",
       "      <td>0.000000</td>\n",
       "      <td>1.692880</td>\n",
       "      <td>0.393410</td>\n",
       "      <td>1.692880</td>\n",
       "      <td>0.393410</td>\n",
       "      <td>13.000000</td>\n",
       "      <td>7.000000</td>\n",
       "      <td>1.000000</td>\n",
       "      <td>0.000000</td>\n",
       "      <td>1.299470</td>\n",
       "      <td>253.000000</td>\n",
       "      <td>34.000000</td>\n",
       "      <td>172.000000</td>\n",
       "      <td>23.000000</td>\n",
       "      <td>2.171980</td>\n",
       "      <td>1.310660</td>\n",
       "      <td>1.410810</td>\n",
       "      <td>0.549491</td>\n",
       "      <td>9.000000</td>\n",
       "      <td>3.000000</td>\n",
       "      <td>4.000000</td>\n",
       "      <td>1.000000</td>\n",
       "      <td>0.861319</td>\n",
       "      <td>208.000000</td>\n",
       "      <td>44.0</td>\n",
       "      <td>253.000000</td>\n",
       "      <td>19.0</td>\n",
       "    </tr>\n",
       "    <tr>\n",
       "      <th>3</th>\n",
       "      <td>454</td>\n",
       "      <td>4</td>\n",
       "      <td>0.00000</td>\n",
       "      <td>0.00000</td>\n",
       "      <td>0.000000</td>\n",
       "      <td>0.000000</td>\n",
       "      <td>5.4</td>\n",
       "      <td>0.0</td>\n",
       "      <td>0.000000</td>\n",
       "      <td>0.000000</td>\n",
       "      <td>0.000000</td>\n",
       "      <td>0.0</td>\n",
       "      <td>0.0</td>\n",
       "      <td>0.0</td>\n",
       "      <td>Watford</td>\n",
       "      <td>0.0</td>\n",
       "      <td>0.0</td>\n",
       "      <td>0.210675</td>\n",
       "      <td>0.0</td>\n",
       "      <td>-1221</td>\n",
       "      <td>1</td>\n",
       "      <td>0.000000</td>\n",
       "      <td>0</td>\n",
       "      <td>Aaron Cresswell</td>\n",
       "      <td>Cresswell</td>\n",
       "      <td>2</td>\n",
       "      <td>West Ham</td>\n",
       "      <td>534</td>\n",
       "      <td>West Ham</td>\n",
       "      <td>Watford</td>\n",
       "      <td>0.000000</td>\n",
       "      <td>0.000000</td>\n",
       "      <td>0.000000</td>\n",
       "      <td>0.000000</td>\n",
       "      <td>0.000000</td>\n",
       "      <td>0.000000</td>\n",
       "      <td>0.000000</td>\n",
       "      <td>0.000000</td>\n",
       "      <td>1.083850</td>\n",
       "      <td>3.216240</td>\n",
       "      <td>1.083850</td>\n",
       "      <td>3.216240</td>\n",
       "      <td>0.000000</td>\n",
       "      <td>18.000000</td>\n",
       "      <td>1.000000</td>\n",
       "      <td>3.000000</td>\n",
       "      <td>-2.132390</td>\n",
       "      <td>354.000000</td>\n",
       "      <td>26.000000</td>\n",
       "      <td>146.000000</td>\n",
       "      <td>26.000000</td>\n",
       "      <td>1.077750</td>\n",
       "      <td>2.032710</td>\n",
       "      <td>1.077750</td>\n",
       "      <td>1.271540</td>\n",
       "      <td>8.000000</td>\n",
       "      <td>11.000000</td>\n",
       "      <td>1.000000</td>\n",
       "      <td>3.000000</td>\n",
       "      <td>-0.193790</td>\n",
       "      <td>286.000000</td>\n",
       "      <td>29.0</td>\n",
       "      <td>204.000000</td>\n",
       "      <td>29.0</td>\n",
       "    </tr>\n",
       "    <tr>\n",
       "      <th>4</th>\n",
       "      <td>454</td>\n",
       "      <td>5</td>\n",
       "      <td>0.00000</td>\n",
       "      <td>0.00000</td>\n",
       "      <td>0.000000</td>\n",
       "      <td>0.000000</td>\n",
       "      <td>5.4</td>\n",
       "      <td>0.0</td>\n",
       "      <td>0.000000</td>\n",
       "      <td>0.000000</td>\n",
       "      <td>0.000000</td>\n",
       "      <td>0.0</td>\n",
       "      <td>0.0</td>\n",
       "      <td>0.0</td>\n",
       "      <td>West Bromwich Albion</td>\n",
       "      <td>0.0</td>\n",
       "      <td>0.0</td>\n",
       "      <td>0.198325</td>\n",
       "      <td>0.0</td>\n",
       "      <td>-520</td>\n",
       "      <td>0</td>\n",
       "      <td>0.000000</td>\n",
       "      <td>0</td>\n",
       "      <td>Aaron Cresswell</td>\n",
       "      <td>Cresswell</td>\n",
       "      <td>2</td>\n",
       "      <td>West Ham</td>\n",
       "      <td>534</td>\n",
       "      <td>West Bromwich Albion</td>\n",
       "      <td>West Ham</td>\n",
       "      <td>0.000000</td>\n",
       "      <td>0.000000</td>\n",
       "      <td>0.000000</td>\n",
       "      <td>0.000000</td>\n",
       "      <td>0.000000</td>\n",
       "      <td>0.000000</td>\n",
       "      <td>0.000000</td>\n",
       "      <td>0.000000</td>\n",
       "      <td>1.322160</td>\n",
       "      <td>1.854790</td>\n",
       "      <td>1.322160</td>\n",
       "      <td>1.854790</td>\n",
       "      <td>5.000000</td>\n",
       "      <td>6.000000</td>\n",
       "      <td>2.000000</td>\n",
       "      <td>4.000000</td>\n",
       "      <td>-0.532630</td>\n",
       "      <td>158.000000</td>\n",
       "      <td>29.000000</td>\n",
       "      <td>254.000000</td>\n",
       "      <td>21.000000</td>\n",
       "      <td>1.483470</td>\n",
       "      <td>0.986511</td>\n",
       "      <td>1.483470</td>\n",
       "      <td>0.986511</td>\n",
       "      <td>4.000000</td>\n",
       "      <td>8.000000</td>\n",
       "      <td>0.000000</td>\n",
       "      <td>1.000000</td>\n",
       "      <td>0.496959</td>\n",
       "      <td>224.000000</td>\n",
       "      <td>21.0</td>\n",
       "      <td>130.000000</td>\n",
       "      <td>19.0</td>\n",
       "    </tr>\n",
       "  </tbody>\n",
       "</table>\n",
       "</div>"
      ],
      "text/plain": [
       "   element  round  assists    bonus        bps  clean_sheets  value  \\\n",
       "0      454      1  0.10863  0.32589  17.788171      0.298733    5.5   \n",
       "1      454      2  0.00000  0.00000   0.000000      0.000000    5.5   \n",
       "2      454      3  0.00000  0.00000   0.000000      0.000000    5.4   \n",
       "3      454      4  0.00000  0.00000   0.000000      0.000000    5.4   \n",
       "4      454      5  0.00000  0.00000   0.000000      0.000000    5.4   \n",
       "\n",
       "   creativity  total_points  goals_conceded  goals_scored  ict_index  \\\n",
       "0         0.0      3.611949        1.357876      0.054315        0.0   \n",
       "1         0.0      0.000000        0.000000      0.000000        0.0   \n",
       "2         0.0      0.000000        0.000000      0.000000        0.0   \n",
       "3         0.0      0.000000        0.000000      0.000000        0.0   \n",
       "4         0.0      0.000000        0.000000      0.000000        0.0   \n",
       "\n",
       "   influence  minutes         opponent_team  red_cards  saves  \\\n",
       "0        0.0     90.0               Chelsea        0.0    0.0   \n",
       "1        0.0      0.0           Bournemouth        0.0    0.0   \n",
       "2        0.0      0.0       Manchester City        0.0    0.0   \n",
       "3        0.0      0.0               Watford        0.0    0.0   \n",
       "4        0.0      0.0  West Bromwich Albion        0.0    0.0   \n",
       "\n",
       "   selected_by_percent  threat  transfers_balance  was_home  yellow_cards  \\\n",
       "0             0.350575     0.0                  0         0      0.027158   \n",
       "1             0.288275     0.0              -3002         1      0.000000   \n",
       "2             0.239675     0.0              -2053         0      0.000000   \n",
       "3             0.210675     0.0              -1221         1      0.000000   \n",
       "4             0.198325     0.0               -520         0      0.000000   \n",
       "\n",
       "   label      player_name   web_name  element_type player_team  understat_id  \\\n",
       "0      0  Aaron Cresswell  Cresswell             2    West Ham           534   \n",
       "1      0  Aaron Cresswell  Cresswell             2    West Ham           534   \n",
       "2      0  Aaron Cresswell  Cresswell             2    West Ham           534   \n",
       "3      0  Aaron Cresswell  Cresswell             2    West Ham           534   \n",
       "4      0  Aaron Cresswell  Cresswell             2    West Ham           534   \n",
       "\n",
       "                 h_team       a_team     shots        xG        xA  \\\n",
       "0               Chelsea     West Ham  0.756757  0.029529  0.089044   \n",
       "1              West Ham  Bournemouth  0.000000  0.000000  0.000000   \n",
       "2       Manchester City     West Ham  0.000000  0.000000  0.000000   \n",
       "3              West Ham      Watford  0.000000  0.000000  0.000000   \n",
       "4  West Bromwich Albion     West Ham  0.000000  0.000000  0.000000   \n",
       "\n",
       "   key_passes       npg      npxG   xGChain  xGBuildup  xG_player_team  \\\n",
       "0    1.081081  0.054054  0.029529  0.279442   0.184625        1.431594   \n",
       "1    0.000000  0.000000  0.000000  0.000000   0.000000        0.445604   \n",
       "2    0.000000  0.000000  0.000000  0.000000   0.000000        1.692880   \n",
       "3    0.000000  0.000000  0.000000  0.000000   0.000000        1.083850   \n",
       "4    0.000000  0.000000  0.000000  0.000000   0.000000        1.322160   \n",
       "\n",
       "   xGA_player_team  npxG_player_team  npxGA_player_team  deep_player_team  \\\n",
       "0         1.459965          1.351471           1.299719          5.578947   \n",
       "1         1.460300          0.445604           0.699127          3.000000   \n",
       "2         0.393410          1.692880           0.393410         13.000000   \n",
       "3         3.216240          1.083850           3.216240          0.000000   \n",
       "4         1.854790          1.322160           1.854790          5.000000   \n",
       "\n",
       "   deep_allowed_player_team  scored_player_team  missed_player_team  \\\n",
       "0                  6.842105            1.710526            1.342105   \n",
       "1                  7.000000            1.000000            2.000000   \n",
       "2                  7.000000            1.000000            0.000000   \n",
       "3                 18.000000            1.000000            3.000000   \n",
       "4                  6.000000            2.000000            4.000000   \n",
       "\n",
       "   npxGD_player_team  ppda_att_player_team  ppda_def_player_team  \\\n",
       "0           0.051752            222.868421             23.947368   \n",
       "1          -0.253523            333.000000             28.000000   \n",
       "2           1.299470            253.000000             34.000000   \n",
       "3          -2.132390            354.000000             26.000000   \n",
       "4          -0.532630            158.000000             29.000000   \n",
       "\n",
       "   ppda_allowed_att_player_team  ppda_allowed_def_player_team  \\\n",
       "0                    214.447368                     24.342105   \n",
       "1                    213.000000                     34.000000   \n",
       "2                    172.000000                     23.000000   \n",
       "3                    146.000000                     26.000000   \n",
       "4                    254.000000                     21.000000   \n",
       "\n",
       "   xG_opponent_team  xGA_opponent_team  npxG_opponent_team  \\\n",
       "0          1.433677           1.174375            1.333523   \n",
       "1          0.522847           1.911050            0.522847   \n",
       "2          2.171980           1.310660            1.410810   \n",
       "3          1.077750           2.032710            1.077750   \n",
       "4          1.483470           0.986511            1.483470   \n",
       "\n",
       "   npxGA_opponent_team  deep_opponent_team  deep_allowed_opponent_team  \\\n",
       "0             1.094252            9.315789                    5.105263   \n",
       "1             1.911050            3.000000                    4.000000   \n",
       "2             0.549491            9.000000                    3.000000   \n",
       "3             1.271540            8.000000                   11.000000   \n",
       "4             0.986511            4.000000                    8.000000   \n",
       "\n",
       "   scored_opponent_team  missed_opponent_team  npxGD_opponent_team  \\\n",
       "0              1.552632              1.394737             0.239271   \n",
       "1              1.000000              3.000000            -1.388203   \n",
       "2              4.000000              1.000000             0.861319   \n",
       "3              1.000000              3.000000            -0.193790   \n",
       "4              0.000000              1.000000             0.496959   \n",
       "\n",
       "   ppda_att_opponent_team  ppda_def_opponent_team  \\\n",
       "0              213.236842                    25.0   \n",
       "1              351.000000                    24.0   \n",
       "2              208.000000                    44.0   \n",
       "3              286.000000                    29.0   \n",
       "4              224.000000                    21.0   \n",
       "\n",
       "   ppda_allowed_att_opponent_team  ppda_allowed_def_opponent_team  \n",
       "0                      272.026316                            27.0  \n",
       "1                      263.000000                            25.0  \n",
       "2                      253.000000                            19.0  \n",
       "3                      204.000000                            29.0  \n",
       "4                      130.000000                            19.0  "
      ]
     },
     "execution_count": 3,
     "metadata": {},
     "output_type": "execute_result"
    }
   ],
   "source": [
    "df.head()"
   ]
  },
  {
   "cell_type": "code",
   "execution_count": 4,
   "metadata": {},
   "outputs": [
    {
     "data": {
      "text/plain": [
       "(71597, 64)"
      ]
     },
     "execution_count": 4,
     "metadata": {},
     "output_type": "execute_result"
    }
   ],
   "source": [
    "df.shape"
   ]
  },
  {
   "cell_type": "code",
   "execution_count": 5,
   "metadata": {},
   "outputs": [
    {
     "name": "stdout",
     "output_type": "stream",
     "text": [
      "<class 'pandas.core.frame.DataFrame'>\n",
      "RangeIndex: 71597 entries, 0 to 71596\n",
      "Data columns (total 64 columns):\n",
      " #   Column                          Non-Null Count  Dtype  \n",
      "---  ------                          --------------  -----  \n",
      " 0   element                         71597 non-null  int64  \n",
      " 1   round                           71597 non-null  int64  \n",
      " 2   assists                         71597 non-null  float64\n",
      " 3   bonus                           71597 non-null  float64\n",
      " 4   bps                             71597 non-null  float64\n",
      " 5   clean_sheets                    71597 non-null  float64\n",
      " 6   value                           71597 non-null  float64\n",
      " 7   creativity                      71597 non-null  float64\n",
      " 8   total_points                    71597 non-null  float64\n",
      " 9   goals_conceded                  71597 non-null  float64\n",
      " 10  goals_scored                    71597 non-null  float64\n",
      " 11  ict_index                       71597 non-null  float64\n",
      " 12  influence                       71597 non-null  float64\n",
      " 13  minutes                         71597 non-null  float64\n",
      " 14  opponent_team                   71597 non-null  object \n",
      " 15  red_cards                       71597 non-null  float64\n",
      " 16  saves                           71597 non-null  float64\n",
      " 17  selected_by_percent             71597 non-null  float64\n",
      " 18  threat                          71597 non-null  float64\n",
      " 19  transfers_balance               71597 non-null  int64  \n",
      " 20  was_home                        71597 non-null  int64  \n",
      " 21  yellow_cards                    71597 non-null  float64\n",
      " 22  label                           71597 non-null  int64  \n",
      " 23  player_name                     71597 non-null  object \n",
      " 24  web_name                        71597 non-null  object \n",
      " 25  element_type                    71597 non-null  int64  \n",
      " 26  player_team                     71597 non-null  object \n",
      " 27  understat_id                    71597 non-null  int64  \n",
      " 28  h_team                          71597 non-null  object \n",
      " 29  a_team                          71597 non-null  object \n",
      " 30  shots                           71597 non-null  float64\n",
      " 31  xG                              71597 non-null  float64\n",
      " 32  xA                              71597 non-null  float64\n",
      " 33  key_passes                      71597 non-null  float64\n",
      " 34  npg                             71597 non-null  float64\n",
      " 35  npxG                            71597 non-null  float64\n",
      " 36  xGChain                         71597 non-null  float64\n",
      " 37  xGBuildup                       71597 non-null  float64\n",
      " 38  xG_player_team                  71597 non-null  float64\n",
      " 39  xGA_player_team                 71597 non-null  float64\n",
      " 40  npxG_player_team                71597 non-null  float64\n",
      " 41  npxGA_player_team               71597 non-null  float64\n",
      " 42  deep_player_team                71597 non-null  float64\n",
      " 43  deep_allowed_player_team        71597 non-null  float64\n",
      " 44  scored_player_team              71597 non-null  float64\n",
      " 45  missed_player_team              71597 non-null  float64\n",
      " 46  npxGD_player_team               71597 non-null  float64\n",
      " 47  ppda_att_player_team            71597 non-null  float64\n",
      " 48  ppda_def_player_team            71597 non-null  float64\n",
      " 49  ppda_allowed_att_player_team    71597 non-null  float64\n",
      " 50  ppda_allowed_def_player_team    71597 non-null  float64\n",
      " 51  xG_opponent_team                71597 non-null  float64\n",
      " 52  xGA_opponent_team               71597 non-null  float64\n",
      " 53  npxG_opponent_team              71597 non-null  float64\n",
      " 54  npxGA_opponent_team             71597 non-null  float64\n",
      " 55  deep_opponent_team              71597 non-null  float64\n",
      " 56  deep_allowed_opponent_team      71597 non-null  float64\n",
      " 57  scored_opponent_team            71597 non-null  float64\n",
      " 58  missed_opponent_team            71597 non-null  float64\n",
      " 59  npxGD_opponent_team             71597 non-null  float64\n",
      " 60  ppda_att_opponent_team          71597 non-null  float64\n",
      " 61  ppda_def_opponent_team          71597 non-null  float64\n",
      " 62  ppda_allowed_att_opponent_team  71597 non-null  float64\n",
      " 63  ppda_allowed_def_opponent_team  71597 non-null  float64\n",
      "dtypes: float64(51), int64(7), object(6)\n",
      "memory usage: 35.0+ MB\n"
     ]
    }
   ],
   "source": [
    "df.info()"
   ]
  },
  {
   "cell_type": "code",
   "execution_count": 6,
   "metadata": {},
   "outputs": [],
   "source": [
    "columns_to_select = ['element', 'round', 'assists', 'bonus', 'clean_sheets', 'value', 'creativity', 'total_points',\\\n",
    "                     'goals_conceded', 'goals_scored', 'minutes', 'opponent_team', 'red_cards', 'yellow_cards', 'player_name', \\\n",
    "                    'player_team', 'scored_player_team', 'scored_opponent_team']"
   ]
  },
  {
   "cell_type": "code",
   "execution_count": 7,
   "metadata": {},
   "outputs": [],
   "source": [
    "df = df[columns_to_select]"
   ]
  },
  {
   "cell_type": "code",
   "execution_count": 8,
   "metadata": {},
   "outputs": [
    {
     "data": {
      "text/html": [
       "<div>\n",
       "<style scoped>\n",
       "    .dataframe tbody tr th:only-of-type {\n",
       "        vertical-align: middle;\n",
       "    }\n",
       "\n",
       "    .dataframe tbody tr th {\n",
       "        vertical-align: top;\n",
       "    }\n",
       "\n",
       "    .dataframe thead th {\n",
       "        text-align: right;\n",
       "    }\n",
       "</style>\n",
       "<table border=\"1\" class=\"dataframe\">\n",
       "  <thead>\n",
       "    <tr style=\"text-align: right;\">\n",
       "      <th></th>\n",
       "      <th>element</th>\n",
       "      <th>round</th>\n",
       "      <th>assists</th>\n",
       "      <th>bonus</th>\n",
       "      <th>clean_sheets</th>\n",
       "      <th>value</th>\n",
       "      <th>creativity</th>\n",
       "      <th>total_points</th>\n",
       "      <th>goals_conceded</th>\n",
       "      <th>goals_scored</th>\n",
       "      <th>minutes</th>\n",
       "      <th>opponent_team</th>\n",
       "      <th>red_cards</th>\n",
       "      <th>yellow_cards</th>\n",
       "      <th>player_name</th>\n",
       "      <th>player_team</th>\n",
       "      <th>scored_player_team</th>\n",
       "      <th>scored_opponent_team</th>\n",
       "    </tr>\n",
       "  </thead>\n",
       "  <tbody>\n",
       "    <tr>\n",
       "      <th>0</th>\n",
       "      <td>454</td>\n",
       "      <td>1</td>\n",
       "      <td>0.10863</td>\n",
       "      <td>0.32589</td>\n",
       "      <td>0.298733</td>\n",
       "      <td>5.5</td>\n",
       "      <td>0.0</td>\n",
       "      <td>3.611949</td>\n",
       "      <td>1.357876</td>\n",
       "      <td>0.054315</td>\n",
       "      <td>90.0</td>\n",
       "      <td>Chelsea</td>\n",
       "      <td>0.0</td>\n",
       "      <td>0.027158</td>\n",
       "      <td>Aaron Cresswell</td>\n",
       "      <td>West Ham</td>\n",
       "      <td>1.710526</td>\n",
       "      <td>1.552632</td>\n",
       "    </tr>\n",
       "    <tr>\n",
       "      <th>1</th>\n",
       "      <td>454</td>\n",
       "      <td>2</td>\n",
       "      <td>0.00000</td>\n",
       "      <td>0.00000</td>\n",
       "      <td>0.000000</td>\n",
       "      <td>5.5</td>\n",
       "      <td>0.0</td>\n",
       "      <td>0.000000</td>\n",
       "      <td>0.000000</td>\n",
       "      <td>0.000000</td>\n",
       "      <td>0.0</td>\n",
       "      <td>Bournemouth</td>\n",
       "      <td>0.0</td>\n",
       "      <td>0.000000</td>\n",
       "      <td>Aaron Cresswell</td>\n",
       "      <td>West Ham</td>\n",
       "      <td>1.000000</td>\n",
       "      <td>1.000000</td>\n",
       "    </tr>\n",
       "    <tr>\n",
       "      <th>2</th>\n",
       "      <td>454</td>\n",
       "      <td>3</td>\n",
       "      <td>0.00000</td>\n",
       "      <td>0.00000</td>\n",
       "      <td>0.000000</td>\n",
       "      <td>5.4</td>\n",
       "      <td>0.0</td>\n",
       "      <td>0.000000</td>\n",
       "      <td>0.000000</td>\n",
       "      <td>0.000000</td>\n",
       "      <td>0.0</td>\n",
       "      <td>Manchester City</td>\n",
       "      <td>0.0</td>\n",
       "      <td>0.000000</td>\n",
       "      <td>Aaron Cresswell</td>\n",
       "      <td>West Ham</td>\n",
       "      <td>1.000000</td>\n",
       "      <td>4.000000</td>\n",
       "    </tr>\n",
       "    <tr>\n",
       "      <th>3</th>\n",
       "      <td>454</td>\n",
       "      <td>4</td>\n",
       "      <td>0.00000</td>\n",
       "      <td>0.00000</td>\n",
       "      <td>0.000000</td>\n",
       "      <td>5.4</td>\n",
       "      <td>0.0</td>\n",
       "      <td>0.000000</td>\n",
       "      <td>0.000000</td>\n",
       "      <td>0.000000</td>\n",
       "      <td>0.0</td>\n",
       "      <td>Watford</td>\n",
       "      <td>0.0</td>\n",
       "      <td>0.000000</td>\n",
       "      <td>Aaron Cresswell</td>\n",
       "      <td>West Ham</td>\n",
       "      <td>1.000000</td>\n",
       "      <td>1.000000</td>\n",
       "    </tr>\n",
       "    <tr>\n",
       "      <th>4</th>\n",
       "      <td>454</td>\n",
       "      <td>5</td>\n",
       "      <td>0.00000</td>\n",
       "      <td>0.00000</td>\n",
       "      <td>0.000000</td>\n",
       "      <td>5.4</td>\n",
       "      <td>0.0</td>\n",
       "      <td>0.000000</td>\n",
       "      <td>0.000000</td>\n",
       "      <td>0.000000</td>\n",
       "      <td>0.0</td>\n",
       "      <td>West Bromwich Albion</td>\n",
       "      <td>0.0</td>\n",
       "      <td>0.000000</td>\n",
       "      <td>Aaron Cresswell</td>\n",
       "      <td>West Ham</td>\n",
       "      <td>2.000000</td>\n",
       "      <td>0.000000</td>\n",
       "    </tr>\n",
       "  </tbody>\n",
       "</table>\n",
       "</div>"
      ],
      "text/plain": [
       "   element  round  assists    bonus  clean_sheets  value  creativity  \\\n",
       "0      454      1  0.10863  0.32589      0.298733    5.5         0.0   \n",
       "1      454      2  0.00000  0.00000      0.000000    5.5         0.0   \n",
       "2      454      3  0.00000  0.00000      0.000000    5.4         0.0   \n",
       "3      454      4  0.00000  0.00000      0.000000    5.4         0.0   \n",
       "4      454      5  0.00000  0.00000      0.000000    5.4         0.0   \n",
       "\n",
       "   total_points  goals_conceded  goals_scored  minutes         opponent_team  \\\n",
       "0      3.611949        1.357876      0.054315     90.0               Chelsea   \n",
       "1      0.000000        0.000000      0.000000      0.0           Bournemouth   \n",
       "2      0.000000        0.000000      0.000000      0.0       Manchester City   \n",
       "3      0.000000        0.000000      0.000000      0.0               Watford   \n",
       "4      0.000000        0.000000      0.000000      0.0  West Bromwich Albion   \n",
       "\n",
       "   red_cards  yellow_cards      player_name player_team  scored_player_team  \\\n",
       "0        0.0      0.027158  Aaron Cresswell    West Ham            1.710526   \n",
       "1        0.0      0.000000  Aaron Cresswell    West Ham            1.000000   \n",
       "2        0.0      0.000000  Aaron Cresswell    West Ham            1.000000   \n",
       "3        0.0      0.000000  Aaron Cresswell    West Ham            1.000000   \n",
       "4        0.0      0.000000  Aaron Cresswell    West Ham            2.000000   \n",
       "\n",
       "   scored_opponent_team  \n",
       "0              1.552632  \n",
       "1              1.000000  \n",
       "2              4.000000  \n",
       "3              1.000000  \n",
       "4              0.000000  "
      ]
     },
     "execution_count": 8,
     "metadata": {},
     "output_type": "execute_result"
    }
   ],
   "source": [
    "df.head()"
   ]
  },
  {
   "cell_type": "code",
   "execution_count": 9,
   "metadata": {},
   "outputs": [
    {
     "name": "stdout",
     "output_type": "stream",
     "text": [
      "<class 'pandas.core.frame.DataFrame'>\n",
      "RangeIndex: 71597 entries, 0 to 71596\n",
      "Data columns (total 18 columns):\n",
      " #   Column                Non-Null Count  Dtype  \n",
      "---  ------                --------------  -----  \n",
      " 0   element               71597 non-null  int64  \n",
      " 1   round                 71597 non-null  int64  \n",
      " 2   assists               71597 non-null  float64\n",
      " 3   bonus                 71597 non-null  float64\n",
      " 4   clean_sheets          71597 non-null  float64\n",
      " 5   value                 71597 non-null  float64\n",
      " 6   creativity            71597 non-null  float64\n",
      " 7   total_points          71597 non-null  float64\n",
      " 8   goals_conceded        71597 non-null  float64\n",
      " 9   goals_scored          71597 non-null  float64\n",
      " 10  minutes               71597 non-null  float64\n",
      " 11  opponent_team         71597 non-null  object \n",
      " 12  red_cards             71597 non-null  float64\n",
      " 13  yellow_cards          71597 non-null  float64\n",
      " 14  player_name           71597 non-null  object \n",
      " 15  player_team           71597 non-null  object \n",
      " 16  scored_player_team    71597 non-null  float64\n",
      " 17  scored_opponent_team  71597 non-null  float64\n",
      "dtypes: float64(13), int64(2), object(3)\n",
      "memory usage: 9.8+ MB\n"
     ]
    }
   ],
   "source": [
    "df.info()"
   ]
  },
  {
   "cell_type": "code",
   "execution_count": 10,
   "metadata": {},
   "outputs": [
    {
     "data": {
      "text/plain": [
       "array([454, 142,  16, 482, 163, 283,  30, 286, 205,  34, 164, 563, 627,\n",
       "       261, 556, 450, 158, 187, 531, 593, 281, 192, 578, 220,  21,  18,\n",
       "        12, 558, 644, 412, 262,  68, 638, 605, 152,  39, 120, 374, 468,\n",
       "       178, 680, 361, 456, 267, 477, 250, 144, 505,  29,  70, 535, 641,\n",
       "       359, 260,  74, 656, 224, 649, 119, 398, 386, 430, 278,  56, 418,\n",
       "       603,  52, 496, 280, 343, 335, 507, 490, 197, 621,  76, 562,  49,\n",
       "         9,  83, 328, 314,  33, 459, 438, 244, 213, 394, 168, 414, 117,\n",
       "       541, 442, 122, 406, 408, 433, 440, 293, 302, 149, 301,  77, 254,\n",
       "       657, 107,  43, 651, 182, 275, 179, 214, 383, 172,  26, 439, 451,\n",
       "       540,  61, 570, 554, 161, 291,   1, 230, 242,  64, 618, 191, 181,\n",
       "       669, 470, 559,  97, 569, 461, 659, 217, 595, 506, 353, 308,  82,\n",
       "       542, 147, 279, 204, 255, 390, 393, 321, 416, 630, 580, 227, 354,\n",
       "       527, 363, 234, 500, 233, 671, 121,  20, 294,   5, 625, 137, 436,\n",
       "        78, 491, 223, 320,  62, 276, 587, 565, 485, 141, 334, 325, 329,\n",
       "       231,  24, 284, 368, 467, 571, 307,  37, 403, 153, 513, 268, 402,\n",
       "       407, 380, 465,   6, 332, 488, 419, 236, 424, 567, 316, 367, 350,\n",
       "       504, 452, 661, 114, 136, 444, 208, 441,  59, 103, 306, 184, 347,\n",
       "       385, 516, 110, 538, 371, 311, 560, 373, 351, 355, 428, 266, 232,\n",
       "       202, 113, 521, 662, 199, 123, 105, 626, 473, 342, 128,  75, 635,\n",
       "       194, 432, 579, 526, 445, 330, 616, 431, 642, 201, 340, 292, 362,\n",
       "        46, 115, 309, 519, 674,  48, 399, 604, 411, 256, 479, 544,  42,\n",
       "       492, 647, 165, 241, 235, 594, 133, 198, 388,   7, 387, 357,  79,\n",
       "       358, 384, 346,   3, 348, 574, 125, 200, 370, 185, 375, 489,  47,\n",
       "        51, 189,  98, 549, 632, 175, 646,  69, 356, 247, 520,  53, 637,\n",
       "       124, 337, 643, 237, 462, 177, 322,  38, 170, 561, 248, 271, 458,\n",
       "       331, 475, 573, 257, 290, 106, 633, 652, 495, 483,   8, 576, 446,\n",
       "       299, 251, 602,  55, 131, 678, 636,  44, 298, 258,  14, 259, 150,\n",
       "       620,  58,  66, 464, 381,  96, 413, 366, 112, 379,  22, 391, 572,\n",
       "        95, 392,  10, 183, 376, 304, 530, 193, 360,  87, 226, 422, 426,\n",
       "       487, 546,  25, 634, 310,  84, 582, 221, 108, 499, 249, 503, 472,\n",
       "       460,  90,   4, 336,   2, 323, 127, 245, 324, 203, 312, 474, 228,\n",
       "       486, 132, 447, 176, 484, 640, 173, 209, 539, 143, 166, 134,  88,\n",
       "       629, 600, 296, 536, 396, 318, 212, 449, 457, 156, 511, 592,  67,\n",
       "       229,  15,  63, 104, 667, 126, 349, 409, 239, 243, 313, 162, 315,\n",
       "       186, 555,  31, 188, 550, 551, 466, 552, 365,  57,  32, 102, 305,\n",
       "       525, 533, 282, 494, 372,  13,  73, 253, 382, 512,  54, 160, 523,\n",
       "       425,  35, 420, 575,  92, 400, 289, 405, 222, 303, 339, 274, 352,\n",
       "       100, 269, 369, 167, 628, 111, 557,  86, 219, 453, 333, 174, 118,\n",
       "       272, 568, 478, 443, 522, 157, 589, 216,  28,  41,  93, 277, 612,\n",
       "       130, 421, 190, 196, 344, 493, 583, 480, 338, 326,  81, 471, 434,\n",
       "       263, 518, 300, 429, 598, 270, 378, 404, 101, 543, 288, 510, 215,\n",
       "       238, 615, 159, 240, 584, 614, 497, 246, 601, 151, 609,  71,  23,\n",
       "       607, 397, 341, 155, 481, 317, 437, 509,  89, 145, 423, 225, 622,\n",
       "       135,  45, 218, 597, 517, 401, 608, 116, 287, 252,  80, 148, 599,\n",
       "        99, 498, 138,  60, 617, 265,  50, 327,  40, 537, 171, 295, 146,\n",
       "       154, 427, 469, 524, 548, 619, 109, 140, 264, 345, 611, 501,  11,\n",
       "       415, 285, 435,  91, 139, 532, 211, 590,  85, 515, 591,  94, 463,\n",
       "       377,  72, 417,  36, 273, 389, 395, 206, 195, 129, 476, 508, 588,\n",
       "       410, 581, 364, 586, 534,  17, 610, 514, 566, 297,  65, 585, 210,\n",
       "       502, 606, 455, 319, 448, 207,  27, 180, 169, 631, 553, 529, 645,\n",
       "       650, 547,  19, 660, 613, 624, 528, 658], dtype=int64)"
      ]
     },
     "execution_count": 10,
     "metadata": {},
     "output_type": "execute_result"
    }
   ],
   "source": [
    "df['element'].unique()"
   ]
  },
  {
   "cell_type": "code",
   "execution_count": 11,
   "metadata": {},
   "outputs": [
    {
     "data": {
      "text/plain": [
       "array([ 1,  2,  3,  4,  5,  6,  7,  8,  9, 10, 11, 12, 13, 14, 15, 16, 17,\n",
       "       18, 19, 20, 21, 22, 23, 24, 25, 26, 27, 28, 29, 30, 31, 32, 33, 34,\n",
       "       35, 36, 37, 38], dtype=int64)"
      ]
     },
     "execution_count": 11,
     "metadata": {},
     "output_type": "execute_result"
    }
   ],
   "source": [
    "df['round'].unique()"
   ]
  },
  {
   "cell_type": "code",
   "execution_count": 12,
   "metadata": {},
   "outputs": [
    {
     "data": {
      "text/plain": [
       "array(['Chelsea', 'Bournemouth', 'Manchester City', 'Watford',\n",
       "       'West Bromwich Albion', 'Southampton', 'Middlesbrough',\n",
       "       'Crystal Palace', 'Sunderland', 'Everton', 'Stoke', 'Tottenham',\n",
       "       'Manchester United', 'Arsenal', 'Liverpool', 'Burnley', 'Hull',\n",
       "       'Swansea', 'Leicester', 'West Ham', 'Newcastle United',\n",
       "       'Huddersfield', 'Brighton', 'Wolverhampton Wanderers', 'Cardiff',\n",
       "       'Fulham', 'Aston Villa', 'Norwich', 'Sheffield United'],\n",
       "      dtype=object)"
      ]
     },
     "execution_count": 12,
     "metadata": {},
     "output_type": "execute_result"
    }
   ],
   "source": [
    "df['opponent_team'].unique()"
   ]
  },
  {
   "cell_type": "code",
   "execution_count": 13,
   "metadata": {},
   "outputs": [
    {
     "data": {
      "text/plain": [
       "array(['Chelsea', 'Bournemouth', 'Manchester City', 'Watford',\n",
       "       'West Bromwich Albion', 'Southampton', 'Middlesbrough',\n",
       "       'Crystal Palace', 'Sunderland', 'Everton', 'Stoke', 'Tottenham',\n",
       "       'Manchester United', 'Arsenal', 'Liverpool', 'Burnley', 'Hull',\n",
       "       'Swansea', 'Leicester', 'West Ham', 'Newcastle United',\n",
       "       'Huddersfield', 'Brighton', 'Wolverhampton Wanderers', 'Cardiff',\n",
       "       'Fulham', 'Aston Villa', 'Norwich', 'Sheffield United'],\n",
       "      dtype=object)"
      ]
     },
     "execution_count": 13,
     "metadata": {},
     "output_type": "execute_result"
    }
   ],
   "source": [
    "df['opponent_team'].unique()"
   ]
  },
  {
   "cell_type": "code",
   "execution_count": 14,
   "metadata": {},
   "outputs": [
    {
     "data": {
      "text/plain": [
       "array(['West Ham', 'Everton', 'Arsenal', 'Watford', 'Hull',\n",
       "       'Middlesbrough', 'Bournemouth', 'Liverpool', 'Sunderland',\n",
       "       'Leicester', 'Burnley', 'Manchester City', 'Swansea',\n",
       "       'West Bromwich Albion', 'Manchester United', 'Crystal Palace',\n",
       "       'Chelsea', 'Tottenham', 'Stoke', 'Southampton', 'Huddersfield',\n",
       "       'Newcastle United', 'Brighton', 'Fulham',\n",
       "       'Wolverhampton Wanderers', 'Cardiff', 'Norwich', 'Aston Villa',\n",
       "       'Sheffield United'], dtype=object)"
      ]
     },
     "execution_count": 14,
     "metadata": {},
     "output_type": "execute_result"
    }
   ],
   "source": [
    "df['player_team'].unique()"
   ]
  },
  {
   "cell_type": "code",
   "execution_count": 15,
   "metadata": {},
   "outputs": [
    {
     "data": {
      "text/plain": [
       "29"
      ]
     },
     "execution_count": 15,
     "metadata": {},
     "output_type": "execute_result"
    }
   ],
   "source": [
    "df['player_team'].nunique()"
   ]
  },
  {
   "cell_type": "code",
   "execution_count": 16,
   "metadata": {},
   "outputs": [
    {
     "data": {
      "text/plain": [
       "1004"
      ]
     },
     "execution_count": 16,
     "metadata": {},
     "output_type": "execute_result"
    }
   ],
   "source": [
    "df['player_name'].nunique()"
   ]
  },
  {
   "cell_type": "markdown",
   "metadata": {},
   "source": [
    "## Visualize Points for player"
   ]
  },
  {
   "cell_type": "code",
   "execution_count": 49,
   "metadata": {},
   "outputs": [
    {
     "data": {
      "text/plain": [
       "player_name\n",
       "Harry Kane                   90.184033\n",
       "Sergio Agüero                78.397135\n",
       "Mohamed Salah                73.663603\n",
       "Jamie Vardy                  73.255608\n",
       "Raheem Sterling              62.711628\n",
       "Sadio Mané                   61.957611\n",
       "Romelu Lukaku                53.702400\n",
       "Heung-Min Son                50.938403\n",
       "Pierre-Emerick Aubameyang    50.722333\n",
       "Roberto Firmino              48.683035\n",
       "Name: goals_scored, dtype: float64"
      ]
     },
     "execution_count": 49,
     "metadata": {},
     "output_type": "execute_result"
    }
   ],
   "source": [
    "df.groupby('player_name').sum()['goals_scored'].sort_values(ascending=False)[0:10]"
   ]
  },
  {
   "cell_type": "code",
   "execution_count": 53,
   "metadata": {},
   "outputs": [
    {
     "data": {
      "image/png": "[encoded data removed]",
      "text/plain": [
       "<Figure size 1080x504 with 1 Axes>"
      ]
     },
     "metadata": {
      "needs_background": "light"
     },
     "output_type": "display_data"
    }
   ],
   "source": [
    "# df[df['player_name'] == 'Mohamed Salah'].plot(x='round', y='total_points')\n",
    "_ = plt.figure(figsize=(15,7))\n",
    "df[df['player_name'] == 'Sergio Agüero'].groupby('round').sum()['total_points'].plot()\n",
    "_ = plt.xticks(np.arange(39))\n",
    "_ = plt.ylabel('points')\n",
    "plt.show()"
   ]
  },
  {
   "cell_type": "code",
   "execution_count": 51,
   "metadata": {},
   "outputs": [],
   "source": [
    "# # df[df['player_name'] == 'Mohamed Salah'].plot(x='round', y='total_points')\n",
    "# _ = plt.figure(figsize=(15,7))\n",
    "# df[df['player_name'] == 'Mohamed Salah'].groupby('round').sum()['creativity'].plot()\n",
    "# _ = plt.xticks(np.arange(39))\n",
    "# _ = plt.ylabel('creativity')\n",
    "# plt.show()"
   ]
  },
  {
   "cell_type": "code",
   "execution_count": 52,
   "metadata": {},
   "outputs": [],
   "source": [
    "# # df[df['player_name'] == 'Mohamed Salah'].plot(x='round', y='total_points')\n",
    "# _ = plt.figure(figsize=(15,7))\n",
    "# df[df['player_name'] == 'Mohamed Salah'].groupby('round').sum()['total_points'].plot()\n",
    "# _ = plt.xticks(np.arange(39))\n",
    "# _ = plt.ylabel('points')\n",
    "# plt.show()"
   ]
  },
  {
   "cell_type": "code",
   "execution_count": 42,
   "metadata": {},
   "outputs": [
    {
     "data": {
      "image/png": "[encoded data removed]",
      "text/plain": [
       "<Figure size 1080x504 with 1 Axes>"
      ]
     },
     "metadata": {
      "needs_background": "light"
     },
     "output_type": "display_data"
    }
   ],
   "source": [
    "# df[df['player_name'] == 'Mohamed Salah'].plot(x='round', y='total_points')\n",
    "_ = plt.figure(figsize=(15,7))\n",
    "df[df['player_name'] == 'Mohamed Salah'].groupby('round').sum()['goals_scored'].plot(kind='bar')\n",
    "_ = plt.xticks(np.arange(39))\n",
    "_ = plt.ylabel('goals')\n",
    "plt.show()"
   ]
  },
  {
   "cell_type": "markdown",
   "metadata": {},
   "source": [
    "## Top Ten Teams for total points"
   ]
  },
  {
   "cell_type": "code",
   "execution_count": 30,
   "metadata": {},
   "outputs": [
    {
     "data": {
      "text/plain": [
       "<AxesSubplot:xlabel='player_team'>"
      ]
     },
     "execution_count": 30,
     "metadata": {},
     "output_type": "execute_result"
    },
    {
     "data": {
      "image/png": "[encoded data removed]",
      "text/plain": [
       "<Figure size 432x288 with 1 Axes>"
      ]
     },
     "metadata": {
      "needs_background": "light"
     },
     "output_type": "display_data"
    }
   ],
   "source": [
    "df.groupby('player_team').sum()['total_points'].sort_values(ascending=False)[0:10].plot(kind='bar')"
   ]
  },
  {
   "cell_type": "markdown",
   "metadata": {},
   "source": [
    "## Top Ten Players for total points"
   ]
  },
  {
   "cell_type": "code",
   "execution_count": 32,
   "metadata": {},
   "outputs": [
    {
     "data": {
      "image/png": "[encoded data removed]",
      "text/plain": [
       "<Figure size 432x288 with 1 Axes>"
      ]
     },
     "metadata": {
      "needs_background": "light"
     },
     "output_type": "display_data"
    }
   ],
   "source": [
    "df.groupby('player_name').sum()['total_points'].sort_values(ascending=False)[0:10].plot(kind='bar')\n",
    "_ = plt.ylabel('total points')"
   ]
  },
  {
   "cell_type": "markdown",
   "metadata": {},
   "source": [
    "## Top Ten Teams for Goals"
   ]
  },
  {
   "cell_type": "code",
   "execution_count": 36,
   "metadata": {},
   "outputs": [
    {
     "data": {
      "image/png": "[encoded data removed]",
      "text/plain": [
       "<Figure size 432x288 with 1 Axes>"
      ]
     },
     "metadata": {
      "needs_background": "light"
     },
     "output_type": "display_data"
    }
   ],
   "source": [
    "df.groupby('player_team').sum()['goals_scored'].sort_values(ascending=False)[0:10].plot(kind='bar')\n",
    "_ = plt.ylabel('total goals')"
   ]
  },
  {
   "cell_type": "markdown",
   "metadata": {},
   "source": [
    "## Top Ten Players for Goals"
   ]
  },
  {
   "cell_type": "code",
   "execution_count": 37,
   "metadata": {},
   "outputs": [
    {
     "data": {
      "image/png": "[encoded data removed]",
      "text/plain": [
       "<Figure size 432x288 with 1 Axes>"
      ]
     },
     "metadata": {
      "needs_background": "light"
     },
     "output_type": "display_data"
    }
   ],
   "source": [
    "df.groupby('player_name').sum()['goals_scored'].sort_values(ascending=False)[0:10].plot(kind='bar')\n",
    "_ = plt.ylabel('total goals')"
   ]
  },
  {
   "cell_type": "markdown",
   "metadata": {},
   "source": [
    "## Top Ten Players for Assists"
   ]
  },
  {
   "cell_type": "code",
   "execution_count": 38,
   "metadata": {},
   "outputs": [
    {
     "data": {
      "image/png": "[encoded data removed]",
      "text/plain": [
       "<Figure size 432x288 with 1 Axes>"
      ]
     },
     "metadata": {
      "needs_background": "light"
     },
     "output_type": "display_data"
    }
   ],
   "source": [
    "df.groupby('player_name').sum()['assists'].sort_values(ascending=False)[0:10].plot(kind='bar')\n",
    "_ = plt.ylabel('total assists')"
   ]
  },
  {
   "cell_type": "markdown",
   "metadata": {},
   "source": [
    "## Relations between variables"
   ]
  },
  {
   "cell_type": "code",
   "execution_count": null,
   "metadata": {},
   "outputs": [],
   "source": []
  }
 ],
 "metadata": {
  "kernelspec": {
   "display_name": "Python 3",
   "language": "python",
   "name": "python3"
  },
  "language_info": {
   "codemirror_mode": {
    "name": "ipython",
    "version": 3
   },
   "file_extension": ".py",
   "mimetype": "text/x-python",
   "name": "python",
   "nbconvert_exporter": "python",
   "pygments_lexer": "ipython3",
   "version": "3.8.5"
  }
 },
 "nbformat": 4,
 "nbformat_minor": 4
}
