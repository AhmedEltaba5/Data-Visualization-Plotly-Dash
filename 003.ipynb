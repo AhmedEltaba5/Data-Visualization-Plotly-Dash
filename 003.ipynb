{
 "cells": [
  {
   "cell_type": "markdown",
   "metadata": {},
   "source": [
    "# Fantasy Premier League Season 2019/2020"
   ]
  },
  {
   "cell_type": "code",
   "execution_count": 2,
   "metadata": {},
   "outputs": [],
   "source": [
    "import numpy as np\n",
    "import pandas as pd\n",
    "import matplotlib.pyplot as plt\n",
    "pd.options.display.max_columns = 10000"
   ]
  },
  {
   "cell_type": "code",
   "execution_count": 3,
   "metadata": {},
   "outputs": [],
   "source": [
    "df = pd.read_csv('data/fbl_3_2020.csv')"
   ]
  },
  {
   "cell_type": "code",
   "execution_count": 4,
   "metadata": {},
   "outputs": [
    {
     "data": {
      "text/html": [
       "<div>\n",
       "<style scoped>\n",
       "    .dataframe tbody tr th:only-of-type {\n",
       "        vertical-align: middle;\n",
       "    }\n",
       "\n",
       "    .dataframe tbody tr th {\n",
       "        vertical-align: top;\n",
       "    }\n",
       "\n",
       "    .dataframe thead th {\n",
       "        text-align: right;\n",
       "    }\n",
       "</style>\n",
       "<table border=\"1\" class=\"dataframe\">\n",
       "  <thead>\n",
       "    <tr style=\"text-align: right;\">\n",
       "      <th></th>\n",
       "      <th>Unnamed: 0</th>\n",
       "      <th>h_a</th>\n",
       "      <th>xG</th>\n",
       "      <th>xGA</th>\n",
       "      <th>npxG</th>\n",
       "      <th>npxGA</th>\n",
       "      <th>deep</th>\n",
       "      <th>deep_allowed</th>\n",
       "      <th>scored</th>\n",
       "      <th>missed</th>\n",
       "      <th>xpts</th>\n",
       "      <th>result</th>\n",
       "      <th>date</th>\n",
       "      <th>wins</th>\n",
       "      <th>draws</th>\n",
       "      <th>loses</th>\n",
       "      <th>pts</th>\n",
       "      <th>npxGD</th>\n",
       "      <th>teamId</th>\n",
       "      <th>ppda_cal</th>\n",
       "      <th>allowed_ppda</th>\n",
       "      <th>matchtime</th>\n",
       "      <th>tot_points</th>\n",
       "      <th>round</th>\n",
       "      <th>tot_goal</th>\n",
       "      <th>tot_con</th>\n",
       "      <th>Referee.x</th>\n",
       "      <th>HS.x</th>\n",
       "      <th>HST.x</th>\n",
       "      <th>HF.x</th>\n",
       "      <th>HC.x</th>\n",
       "      <th>HY.x</th>\n",
       "      <th>HR.x</th>\n",
       "      <th>AS.x</th>\n",
       "      <th>AST.x</th>\n",
       "      <th>AF.x</th>\n",
       "      <th>AC.x</th>\n",
       "      <th>AY.x</th>\n",
       "      <th>AR.x</th>\n",
       "      <th>B365H.x</th>\n",
       "      <th>B365D.x</th>\n",
       "      <th>B365A.x</th>\n",
       "      <th>HtrgPerc</th>\n",
       "      <th>AtrgPerc</th>\n",
       "      <th>matchDay</th>\n",
       "    </tr>\n",
       "  </thead>\n",
       "  <tbody>\n",
       "    <tr>\n",
       "      <th>0</th>\n",
       "      <td>1</td>\n",
       "      <td>h</td>\n",
       "      <td>2.234560</td>\n",
       "      <td>0.842407</td>\n",
       "      <td>2.234560</td>\n",
       "      <td>0.842407</td>\n",
       "      <td>11</td>\n",
       "      <td>5</td>\n",
       "      <td>4</td>\n",
       "      <td>1</td>\n",
       "      <td>2.3863</td>\n",
       "      <td>w</td>\n",
       "      <td>2019-08-09 20:00:00</td>\n",
       "      <td>1</td>\n",
       "      <td>0</td>\n",
       "      <td>0</td>\n",
       "      <td>3</td>\n",
       "      <td>1.392153</td>\n",
       "      <td>Liverpool</td>\n",
       "      <td>5.942857</td>\n",
       "      <td>21.454545</td>\n",
       "      <td>20</td>\n",
       "      <td>3</td>\n",
       "      <td>1</td>\n",
       "      <td>4</td>\n",
       "      <td>1</td>\n",
       "      <td>M Oliver</td>\n",
       "      <td>15</td>\n",
       "      <td>7</td>\n",
       "      <td>9</td>\n",
       "      <td>11</td>\n",
       "      <td>0</td>\n",
       "      <td>0</td>\n",
       "      <td>12</td>\n",
       "      <td>5</td>\n",
       "      <td>9</td>\n",
       "      <td>2</td>\n",
       "      <td>2</td>\n",
       "      <td>0</td>\n",
       "      <td>1.14</td>\n",
       "      <td>10.0</td>\n",
       "      <td>19.00</td>\n",
       "      <td>0.466667</td>\n",
       "      <td>0.416667</td>\n",
       "      <td>Fri</td>\n",
       "    </tr>\n",
       "    <tr>\n",
       "      <th>1</th>\n",
       "      <td>2</td>\n",
       "      <td>a</td>\n",
       "      <td>0.842407</td>\n",
       "      <td>2.234560</td>\n",
       "      <td>0.842407</td>\n",
       "      <td>2.234560</td>\n",
       "      <td>5</td>\n",
       "      <td>11</td>\n",
       "      <td>1</td>\n",
       "      <td>4</td>\n",
       "      <td>0.4405</td>\n",
       "      <td>l</td>\n",
       "      <td>2019-08-09 20:00:00</td>\n",
       "      <td>0</td>\n",
       "      <td>0</td>\n",
       "      <td>1</td>\n",
       "      <td>0</td>\n",
       "      <td>-1.392153</td>\n",
       "      <td>Norwich</td>\n",
       "      <td>21.454545</td>\n",
       "      <td>5.942857</td>\n",
       "      <td>20</td>\n",
       "      <td>0</td>\n",
       "      <td>1</td>\n",
       "      <td>1</td>\n",
       "      <td>4</td>\n",
       "      <td>M Oliver</td>\n",
       "      <td>15</td>\n",
       "      <td>7</td>\n",
       "      <td>9</td>\n",
       "      <td>11</td>\n",
       "      <td>0</td>\n",
       "      <td>0</td>\n",
       "      <td>12</td>\n",
       "      <td>5</td>\n",
       "      <td>9</td>\n",
       "      <td>2</td>\n",
       "      <td>2</td>\n",
       "      <td>0</td>\n",
       "      <td>1.14</td>\n",
       "      <td>10.0</td>\n",
       "      <td>19.00</td>\n",
       "      <td>0.466667</td>\n",
       "      <td>0.416667</td>\n",
       "      <td>Fri</td>\n",
       "    </tr>\n",
       "    <tr>\n",
       "      <th>2</th>\n",
       "      <td>3</td>\n",
       "      <td>a</td>\n",
       "      <td>3.183770</td>\n",
       "      <td>1.200300</td>\n",
       "      <td>2.422640</td>\n",
       "      <td>1.200300</td>\n",
       "      <td>9</td>\n",
       "      <td>1</td>\n",
       "      <td>5</td>\n",
       "      <td>0</td>\n",
       "      <td>2.6312</td>\n",
       "      <td>w</td>\n",
       "      <td>2019-08-10 12:30:00</td>\n",
       "      <td>1</td>\n",
       "      <td>0</td>\n",
       "      <td>0</td>\n",
       "      <td>3</td>\n",
       "      <td>1.222340</td>\n",
       "      <td>Man City</td>\n",
       "      <td>6.935484</td>\n",
       "      <td>16.400000</td>\n",
       "      <td>12</td>\n",
       "      <td>3</td>\n",
       "      <td>1</td>\n",
       "      <td>5</td>\n",
       "      <td>0</td>\n",
       "      <td>M Dean</td>\n",
       "      <td>5</td>\n",
       "      <td>3</td>\n",
       "      <td>6</td>\n",
       "      <td>1</td>\n",
       "      <td>2</td>\n",
       "      <td>0</td>\n",
       "      <td>14</td>\n",
       "      <td>9</td>\n",
       "      <td>13</td>\n",
       "      <td>1</td>\n",
       "      <td>2</td>\n",
       "      <td>0</td>\n",
       "      <td>12.00</td>\n",
       "      <td>6.5</td>\n",
       "      <td>1.22</td>\n",
       "      <td>0.600000</td>\n",
       "      <td>0.642857</td>\n",
       "      <td>Sat</td>\n",
       "    </tr>\n",
       "    <tr>\n",
       "      <th>3</th>\n",
       "      <td>4</td>\n",
       "      <td>h</td>\n",
       "      <td>1.200300</td>\n",
       "      <td>3.183770</td>\n",
       "      <td>1.200300</td>\n",
       "      <td>2.422640</td>\n",
       "      <td>1</td>\n",
       "      <td>9</td>\n",
       "      <td>0</td>\n",
       "      <td>5</td>\n",
       "      <td>0.2522</td>\n",
       "      <td>l</td>\n",
       "      <td>2019-08-10 12:30:00</td>\n",
       "      <td>0</td>\n",
       "      <td>0</td>\n",
       "      <td>1</td>\n",
       "      <td>0</td>\n",
       "      <td>-1.222340</td>\n",
       "      <td>West Ham</td>\n",
       "      <td>16.400000</td>\n",
       "      <td>6.935484</td>\n",
       "      <td>12</td>\n",
       "      <td>0</td>\n",
       "      <td>1</td>\n",
       "      <td>0</td>\n",
       "      <td>5</td>\n",
       "      <td>M Dean</td>\n",
       "      <td>5</td>\n",
       "      <td>3</td>\n",
       "      <td>6</td>\n",
       "      <td>1</td>\n",
       "      <td>2</td>\n",
       "      <td>0</td>\n",
       "      <td>14</td>\n",
       "      <td>9</td>\n",
       "      <td>13</td>\n",
       "      <td>1</td>\n",
       "      <td>2</td>\n",
       "      <td>0</td>\n",
       "      <td>12.00</td>\n",
       "      <td>6.5</td>\n",
       "      <td>1.22</td>\n",
       "      <td>0.600000</td>\n",
       "      <td>0.642857</td>\n",
       "      <td>Sat</td>\n",
       "    </tr>\n",
       "    <tr>\n",
       "      <th>4</th>\n",
       "      <td>5</td>\n",
       "      <td>h</td>\n",
       "      <td>1.340990</td>\n",
       "      <td>1.598640</td>\n",
       "      <td>1.340990</td>\n",
       "      <td>1.598640</td>\n",
       "      <td>4</td>\n",
       "      <td>6</td>\n",
       "      <td>1</td>\n",
       "      <td>1</td>\n",
       "      <td>1.0172</td>\n",
       "      <td>d</td>\n",
       "      <td>2019-08-10 15:00:00</td>\n",
       "      <td>0</td>\n",
       "      <td>1</td>\n",
       "      <td>0</td>\n",
       "      <td>1</td>\n",
       "      <td>-0.257650</td>\n",
       "      <td>Bournemouth</td>\n",
       "      <td>13.600000</td>\n",
       "      <td>9.133333</td>\n",
       "      <td>15</td>\n",
       "      <td>1</td>\n",
       "      <td>1</td>\n",
       "      <td>1</td>\n",
       "      <td>1</td>\n",
       "      <td>K Friend</td>\n",
       "      <td>13</td>\n",
       "      <td>3</td>\n",
       "      <td>10</td>\n",
       "      <td>3</td>\n",
       "      <td>2</td>\n",
       "      <td>0</td>\n",
       "      <td>8</td>\n",
       "      <td>3</td>\n",
       "      <td>19</td>\n",
       "      <td>4</td>\n",
       "      <td>1</td>\n",
       "      <td>0</td>\n",
       "      <td>1.95</td>\n",
       "      <td>3.6</td>\n",
       "      <td>3.60</td>\n",
       "      <td>0.230769</td>\n",
       "      <td>0.375000</td>\n",
       "      <td>Sat</td>\n",
       "    </tr>\n",
       "  </tbody>\n",
       "</table>\n",
       "</div>"
      ],
      "text/plain": [
       "   Unnamed: 0 h_a        xG       xGA      npxG     npxGA  deep  deep_allowed  \\\n",
       "0           1   h  2.234560  0.842407  2.234560  0.842407    11             5   \n",
       "1           2   a  0.842407  2.234560  0.842407  2.234560     5            11   \n",
       "2           3   a  3.183770  1.200300  2.422640  1.200300     9             1   \n",
       "3           4   h  1.200300  3.183770  1.200300  2.422640     1             9   \n",
       "4           5   h  1.340990  1.598640  1.340990  1.598640     4             6   \n",
       "\n",
       "   scored  missed    xpts result                 date  wins  draws  loses  \\\n",
       "0       4       1  2.3863      w  2019-08-09 20:00:00     1      0      0   \n",
       "1       1       4  0.4405      l  2019-08-09 20:00:00     0      0      1   \n",
       "2       5       0  2.6312      w  2019-08-10 12:30:00     1      0      0   \n",
       "3       0       5  0.2522      l  2019-08-10 12:30:00     0      0      1   \n",
       "4       1       1  1.0172      d  2019-08-10 15:00:00     0      1      0   \n",
       "\n",
       "   pts     npxGD       teamId   ppda_cal  allowed_ppda  matchtime  tot_points  \\\n",
       "0    3  1.392153    Liverpool   5.942857     21.454545         20           3   \n",
       "1    0 -1.392153      Norwich  21.454545      5.942857         20           0   \n",
       "2    3  1.222340     Man City   6.935484     16.400000         12           3   \n",
       "3    0 -1.222340     West Ham  16.400000      6.935484         12           0   \n",
       "4    1 -0.257650  Bournemouth  13.600000      9.133333         15           1   \n",
       "\n",
       "   round  tot_goal  tot_con Referee.x  HS.x  HST.x  HF.x  HC.x  HY.x  HR.x  \\\n",
       "0      1         4        1  M Oliver    15      7     9    11     0     0   \n",
       "1      1         1        4  M Oliver    15      7     9    11     0     0   \n",
       "2      1         5        0    M Dean     5      3     6     1     2     0   \n",
       "3      1         0        5    M Dean     5      3     6     1     2     0   \n",
       "4      1         1        1  K Friend    13      3    10     3     2     0   \n",
       "\n",
       "   AS.x  AST.x  AF.x  AC.x  AY.x  AR.x  B365H.x  B365D.x  B365A.x  HtrgPerc  \\\n",
       "0    12      5     9     2     2     0     1.14     10.0    19.00  0.466667   \n",
       "1    12      5     9     2     2     0     1.14     10.0    19.00  0.466667   \n",
       "2    14      9    13     1     2     0    12.00      6.5     1.22  0.600000   \n",
       "3    14      9    13     1     2     0    12.00      6.5     1.22  0.600000   \n",
       "4     8      3    19     4     1     0     1.95      3.6     3.60  0.230769   \n",
       "\n",
       "   AtrgPerc matchDay  \n",
       "0  0.416667      Fri  \n",
       "1  0.416667      Fri  \n",
       "2  0.642857      Sat  \n",
       "3  0.642857      Sat  \n",
       "4  0.375000      Sat  "
      ]
     },
     "execution_count": 4,
     "metadata": {},
     "output_type": "execute_result"
    }
   ],
   "source": [
    "df.head()"
   ]
  },
  {
   "cell_type": "code",
   "execution_count": 7,
   "metadata": {},
   "outputs": [
    {
     "data": {
      "text/plain": [
       "(576, 45)"
      ]
     },
     "execution_count": 7,
     "metadata": {},
     "output_type": "execute_result"
    }
   ],
   "source": [
    "df.shape"
   ]
  },
  {
   "cell_type": "code",
   "execution_count": 8,
   "metadata": {},
   "outputs": [
    {
     "name": "stdout",
     "output_type": "stream",
     "text": [
      "<class 'pandas.core.frame.DataFrame'>\n",
      "RangeIndex: 576 entries, 0 to 575\n",
      "Data columns (total 45 columns):\n",
      " #   Column        Non-Null Count  Dtype  \n",
      "---  ------        --------------  -----  \n",
      " 0   Unnamed: 0    576 non-null    int64  \n",
      " 1   h_a           576 non-null    object \n",
      " 2   xG            576 non-null    float64\n",
      " 3   xGA           576 non-null    float64\n",
      " 4   npxG          576 non-null    float64\n",
      " 5   npxGA         576 non-null    float64\n",
      " 6   deep          576 non-null    int64  \n",
      " 7   deep_allowed  576 non-null    int64  \n",
      " 8   scored        576 non-null    int64  \n",
      " 9   missed        576 non-null    int64  \n",
      " 10  xpts          576 non-null    float64\n",
      " 11  result        576 non-null    object \n",
      " 12  date          576 non-null    object \n",
      " 13  wins          576 non-null    int64  \n",
      " 14  draws         576 non-null    int64  \n",
      " 15  loses         576 non-null    int64  \n",
      " 16  pts           576 non-null    int64  \n",
      " 17  npxGD         576 non-null    float64\n",
      " 18  teamId        576 non-null    object \n",
      " 19  ppda_cal      576 non-null    float64\n",
      " 20  allowed_ppda  576 non-null    float64\n",
      " 21  matchtime     576 non-null    int64  \n",
      " 22  tot_points    576 non-null    int64  \n",
      " 23  round         576 non-null    int64  \n",
      " 24  tot_goal      576 non-null    int64  \n",
      " 25  tot_con       576 non-null    int64  \n",
      " 26  Referee.x     576 non-null    object \n",
      " 27  HS.x          576 non-null    int64  \n",
      " 28  HST.x         576 non-null    int64  \n",
      " 29  HF.x          576 non-null    int64  \n",
      " 30  HC.x          576 non-null    int64  \n",
      " 31  HY.x          576 non-null    int64  \n",
      " 32  HR.x          576 non-null    int64  \n",
      " 33  AS.x          576 non-null    int64  \n",
      " 34  AST.x         576 non-null    int64  \n",
      " 35  AF.x          576 non-null    int64  \n",
      " 36  AC.x          576 non-null    int64  \n",
      " 37  AY.x          576 non-null    int64  \n",
      " 38  AR.x          576 non-null    int64  \n",
      " 39  B365H.x       576 non-null    float64\n",
      " 40  B365D.x       576 non-null    float64\n",
      " 41  B365A.x       576 non-null    float64\n",
      " 42  HtrgPerc      576 non-null    float64\n",
      " 43  AtrgPerc      576 non-null    float64\n",
      " 44  matchDay      576 non-null    object \n",
      "dtypes: float64(13), int64(26), object(6)\n",
      "memory usage: 202.6+ KB\n"
     ]
    }
   ],
   "source": [
    "df.info()"
   ]
  },
  {
   "cell_type": "code",
   "execution_count": 31,
   "metadata": {},
   "outputs": [],
   "source": [
    "columns_to_select = ['assists', 'clean_sheets', 'creativity', 'goals_scored', 'influence', 'kickoff_time', 'opponent_team',\\\n",
    "                     'full', 'team', 'total_points', 'round']"
   ]
  },
  {
   "cell_type": "code",
   "execution_count": 32,
   "metadata": {},
   "outputs": [],
   "source": [
    "df = df[columns_to_select]"
   ]
  },
  {
   "cell_type": "code",
   "execution_count": 33,
   "metadata": {},
   "outputs": [
    {
     "data": {
      "text/html": [
       "<div>\n",
       "<style scoped>\n",
       "    .dataframe tbody tr th:only-of-type {\n",
       "        vertical-align: middle;\n",
       "    }\n",
       "\n",
       "    .dataframe tbody tr th {\n",
       "        vertical-align: top;\n",
       "    }\n",
       "\n",
       "    .dataframe thead th {\n",
       "        text-align: right;\n",
       "    }\n",
       "</style>\n",
       "<table border=\"1\" class=\"dataframe\">\n",
       "  <thead>\n",
       "    <tr style=\"text-align: right;\">\n",
       "      <th></th>\n",
       "      <th>assists</th>\n",
       "      <th>clean_sheets</th>\n",
       "      <th>creativity</th>\n",
       "      <th>goals_scored</th>\n",
       "      <th>influence</th>\n",
       "      <th>kickoff_time</th>\n",
       "      <th>opponent_team</th>\n",
       "      <th>full</th>\n",
       "      <th>team</th>\n",
       "      <th>total_points</th>\n",
       "      <th>round</th>\n",
       "    </tr>\n",
       "  </thead>\n",
       "  <tbody>\n",
       "    <tr>\n",
       "      <th>0</th>\n",
       "      <td>0</td>\n",
       "      <td>0</td>\n",
       "      <td>0.1</td>\n",
       "      <td>0</td>\n",
       "      <td>0.2</td>\n",
       "      <td>2019-08-31 14:00:00</td>\n",
       "      <td>Man City</td>\n",
       "      <td>Aaron Connolly</td>\n",
       "      <td>Brighton</td>\n",
       "      <td>1</td>\n",
       "      <td>4</td>\n",
       "    </tr>\n",
       "    <tr>\n",
       "      <th>1</th>\n",
       "      <td>0</td>\n",
       "      <td>0</td>\n",
       "      <td>0.3</td>\n",
       "      <td>0</td>\n",
       "      <td>1.0</td>\n",
       "      <td>2019-09-14 14:00:00</td>\n",
       "      <td>Burnley</td>\n",
       "      <td>Aaron Connolly</td>\n",
       "      <td>Brighton</td>\n",
       "      <td>1</td>\n",
       "      <td>5</td>\n",
       "    </tr>\n",
       "    <tr>\n",
       "      <th>2</th>\n",
       "      <td>0</td>\n",
       "      <td>0</td>\n",
       "      <td>4.8</td>\n",
       "      <td>0</td>\n",
       "      <td>2.0</td>\n",
       "      <td>2019-09-21 16:30:00</td>\n",
       "      <td>Newcastle United</td>\n",
       "      <td>Aaron Connolly</td>\n",
       "      <td>Brighton</td>\n",
       "      <td>1</td>\n",
       "      <td>6</td>\n",
       "    </tr>\n",
       "    <tr>\n",
       "      <th>3</th>\n",
       "      <td>0</td>\n",
       "      <td>0</td>\n",
       "      <td>0.6</td>\n",
       "      <td>0</td>\n",
       "      <td>0.2</td>\n",
       "      <td>2019-09-28 14:00:00</td>\n",
       "      <td>Chelsea</td>\n",
       "      <td>Aaron Connolly</td>\n",
       "      <td>Brighton</td>\n",
       "      <td>1</td>\n",
       "      <td>7</td>\n",
       "    </tr>\n",
       "    <tr>\n",
       "      <th>4</th>\n",
       "      <td>0</td>\n",
       "      <td>1</td>\n",
       "      <td>23.8</td>\n",
       "      <td>2</td>\n",
       "      <td>70.2</td>\n",
       "      <td>2019-10-05 11:30:00</td>\n",
       "      <td>Tottenham</td>\n",
       "      <td>Aaron Connolly</td>\n",
       "      <td>Brighton</td>\n",
       "      <td>13</td>\n",
       "      <td>8</td>\n",
       "    </tr>\n",
       "  </tbody>\n",
       "</table>\n",
       "</div>"
      ],
      "text/plain": [
       "   assists  clean_sheets  creativity  goals_scored  influence  \\\n",
       "0        0             0         0.1             0        0.2   \n",
       "1        0             0         0.3             0        1.0   \n",
       "2        0             0         4.8             0        2.0   \n",
       "3        0             0         0.6             0        0.2   \n",
       "4        0             1        23.8             2       70.2   \n",
       "\n",
       "          kickoff_time     opponent_team            full      team  \\\n",
       "0  2019-08-31 14:00:00          Man City  Aaron Connolly  Brighton   \n",
       "1  2019-09-14 14:00:00           Burnley  Aaron Connolly  Brighton   \n",
       "2  2019-09-21 16:30:00  Newcastle United  Aaron Connolly  Brighton   \n",
       "3  2019-09-28 14:00:00           Chelsea  Aaron Connolly  Brighton   \n",
       "4  2019-10-05 11:30:00         Tottenham  Aaron Connolly  Brighton   \n",
       "\n",
       "   total_points  round  \n",
       "0             1      4  \n",
       "1             1      5  \n",
       "2             1      6  \n",
       "3             1      7  \n",
       "4            13      8  "
      ]
     },
     "execution_count": 33,
     "metadata": {},
     "output_type": "execute_result"
    }
   ],
   "source": [
    "df.head()"
   ]
  },
  {
   "cell_type": "code",
   "execution_count": 34,
   "metadata": {},
   "outputs": [
    {
     "name": "stdout",
     "output_type": "stream",
     "text": [
      "<class 'pandas.core.frame.DataFrame'>\n",
      "RangeIndex: 22502 entries, 0 to 22501\n",
      "Data columns (total 11 columns):\n",
      " #   Column         Non-Null Count  Dtype  \n",
      "---  ------         --------------  -----  \n",
      " 0   assists        22502 non-null  int64  \n",
      " 1   clean_sheets   22502 non-null  int64  \n",
      " 2   creativity     22502 non-null  float64\n",
      " 3   goals_scored   22502 non-null  int64  \n",
      " 4   influence      22502 non-null  float64\n",
      " 5   kickoff_time   22502 non-null  object \n",
      " 6   opponent_team  22502 non-null  object \n",
      " 7   full           22502 non-null  object \n",
      " 8   team           22502 non-null  object \n",
      " 9   total_points   22502 non-null  int64  \n",
      " 10  round          22502 non-null  int64  \n",
      "dtypes: float64(2), int64(5), object(4)\n",
      "memory usage: 1.9+ MB\n"
     ]
    }
   ],
   "source": [
    "df.info()"
   ]
  },
  {
   "cell_type": "code",
   "execution_count": 35,
   "metadata": {},
   "outputs": [
    {
     "data": {
      "text/html": [
       "<div>\n",
       "<style scoped>\n",
       "    .dataframe tbody tr th:only-of-type {\n",
       "        vertical-align: middle;\n",
       "    }\n",
       "\n",
       "    .dataframe tbody tr th {\n",
       "        vertical-align: top;\n",
       "    }\n",
       "\n",
       "    .dataframe thead th {\n",
       "        text-align: right;\n",
       "    }\n",
       "</style>\n",
       "<table border=\"1\" class=\"dataframe\">\n",
       "  <thead>\n",
       "    <tr style=\"text-align: right;\">\n",
       "      <th></th>\n",
       "      <th>assists</th>\n",
       "      <th>clean_sheets</th>\n",
       "      <th>creativity</th>\n",
       "      <th>goals_scored</th>\n",
       "      <th>influence</th>\n",
       "      <th>total_points</th>\n",
       "      <th>round</th>\n",
       "    </tr>\n",
       "  </thead>\n",
       "  <tbody>\n",
       "    <tr>\n",
       "      <th>count</th>\n",
       "      <td>22502.000000</td>\n",
       "      <td>22502.000000</td>\n",
       "      <td>22502.000000</td>\n",
       "      <td>22502.000000</td>\n",
       "      <td>22502.000000</td>\n",
       "      <td>22502.000000</td>\n",
       "      <td>22502.000000</td>\n",
       "    </tr>\n",
       "    <tr>\n",
       "      <th>mean</th>\n",
       "      <td>0.040041</td>\n",
       "      <td>0.104302</td>\n",
       "      <td>4.848378</td>\n",
       "      <td>0.044485</td>\n",
       "      <td>7.396116</td>\n",
       "      <td>1.378189</td>\n",
       "      <td>20.339925</td>\n",
       "    </tr>\n",
       "    <tr>\n",
       "      <th>std</th>\n",
       "      <td>0.211752</td>\n",
       "      <td>0.305658</td>\n",
       "      <td>10.832486</td>\n",
       "      <td>0.230016</td>\n",
       "      <td>12.883909</td>\n",
       "      <td>2.502970</td>\n",
       "      <td>10.974059</td>\n",
       "    </tr>\n",
       "    <tr>\n",
       "      <th>min</th>\n",
       "      <td>0.000000</td>\n",
       "      <td>0.000000</td>\n",
       "      <td>0.000000</td>\n",
       "      <td>0.000000</td>\n",
       "      <td>0.000000</td>\n",
       "      <td>-6.000000</td>\n",
       "      <td>1.000000</td>\n",
       "    </tr>\n",
       "    <tr>\n",
       "      <th>25%</th>\n",
       "      <td>0.000000</td>\n",
       "      <td>0.000000</td>\n",
       "      <td>0.000000</td>\n",
       "      <td>0.000000</td>\n",
       "      <td>0.000000</td>\n",
       "      <td>0.000000</td>\n",
       "      <td>11.000000</td>\n",
       "    </tr>\n",
       "    <tr>\n",
       "      <th>50%</th>\n",
       "      <td>0.000000</td>\n",
       "      <td>0.000000</td>\n",
       "      <td>0.000000</td>\n",
       "      <td>0.000000</td>\n",
       "      <td>0.000000</td>\n",
       "      <td>0.000000</td>\n",
       "      <td>21.000000</td>\n",
       "    </tr>\n",
       "    <tr>\n",
       "      <th>75%</th>\n",
       "      <td>0.000000</td>\n",
       "      <td>0.000000</td>\n",
       "      <td>2.800000</td>\n",
       "      <td>0.000000</td>\n",
       "      <td>11.200000</td>\n",
       "      <td>2.000000</td>\n",
       "      <td>30.000000</td>\n",
       "    </tr>\n",
       "    <tr>\n",
       "      <th>max</th>\n",
       "      <td>3.000000</td>\n",
       "      <td>1.000000</td>\n",
       "      <td>133.500000</td>\n",
       "      <td>4.000000</td>\n",
       "      <td>144.000000</td>\n",
       "      <td>26.000000</td>\n",
       "      <td>38.000000</td>\n",
       "    </tr>\n",
       "  </tbody>\n",
       "</table>\n",
       "</div>"
      ],
      "text/plain": [
       "            assists  clean_sheets    creativity  goals_scored     influence  \\\n",
       "count  22502.000000  22502.000000  22502.000000  22502.000000  22502.000000   \n",
       "mean       0.040041      0.104302      4.848378      0.044485      7.396116   \n",
       "std        0.211752      0.305658     10.832486      0.230016     12.883909   \n",
       "min        0.000000      0.000000      0.000000      0.000000      0.000000   \n",
       "25%        0.000000      0.000000      0.000000      0.000000      0.000000   \n",
       "50%        0.000000      0.000000      0.000000      0.000000      0.000000   \n",
       "75%        0.000000      0.000000      2.800000      0.000000     11.200000   \n",
       "max        3.000000      1.000000    133.500000      4.000000    144.000000   \n",
       "\n",
       "       total_points         round  \n",
       "count  22502.000000  22502.000000  \n",
       "mean       1.378189     20.339925  \n",
       "std        2.502970     10.974059  \n",
       "min       -6.000000      1.000000  \n",
       "25%        0.000000     11.000000  \n",
       "50%        0.000000     21.000000  \n",
       "75%        2.000000     30.000000  \n",
       "max       26.000000     38.000000  "
      ]
     },
     "execution_count": 35,
     "metadata": {},
     "output_type": "execute_result"
    }
   ],
   "source": [
    "df.describe()"
   ]
  },
  {
   "cell_type": "code",
   "execution_count": 36,
   "metadata": {},
   "outputs": [
    {
     "data": {
      "text/plain": [
       "array([0, 2, 1, 3], dtype=int64)"
      ]
     },
     "execution_count": 36,
     "metadata": {},
     "output_type": "execute_result"
    }
   ],
   "source": [
    "df['assists'].unique()"
   ]
  },
  {
   "cell_type": "code",
   "execution_count": 37,
   "metadata": {},
   "outputs": [
    {
     "data": {
      "text/plain": [
       "array([0, 1], dtype=int64)"
      ]
     },
     "execution_count": 37,
     "metadata": {},
     "output_type": "execute_result"
    }
   ],
   "source": [
    "df['clean_sheets'].unique()"
   ]
  },
  {
   "cell_type": "code",
   "execution_count": 38,
   "metadata": {},
   "outputs": [
    {
     "data": {
      "text/plain": [
       "array([0, 2, 1, 3, 4], dtype=int64)"
      ]
     },
     "execution_count": 38,
     "metadata": {},
     "output_type": "execute_result"
    }
   ],
   "source": [
    "df['goals_scored'].unique()"
   ]
  },
  {
   "cell_type": "code",
   "execution_count": 39,
   "metadata": {},
   "outputs": [
    {
     "data": {
      "text/plain": [
       "20"
      ]
     },
     "execution_count": 39,
     "metadata": {},
     "output_type": "execute_result"
    }
   ],
   "source": [
    "df['team'].nunique()"
   ]
  },
  {
   "cell_type": "code",
   "execution_count": 40,
   "metadata": {},
   "outputs": [
    {
     "data": {
      "text/plain": [
       "20"
      ]
     },
     "execution_count": 40,
     "metadata": {},
     "output_type": "execute_result"
    }
   ],
   "source": [
    "df['opponent_team'].nunique()"
   ]
  },
  {
   "cell_type": "code",
   "execution_count": 41,
   "metadata": {},
   "outputs": [
    {
     "data": {
      "text/plain": [
       "666"
      ]
     },
     "execution_count": 41,
     "metadata": {},
     "output_type": "execute_result"
    }
   ],
   "source": [
    "df['full'].nunique() # number of players"
   ]
  },
  {
   "cell_type": "code",
   "execution_count": 43,
   "metadata": {},
   "outputs": [
    {
     "data": {
      "text/plain": [
       "38"
      ]
     },
     "execution_count": 43,
     "metadata": {},
     "output_type": "execute_result"
    }
   ],
   "source": [
    "df['round'].nunique()"
   ]
  },
  {
   "cell_type": "markdown",
   "metadata": {},
   "source": [
    "## Visualize Points for player"
   ]
  },
  {
   "cell_type": "code",
   "execution_count": 51,
   "metadata": {},
   "outputs": [
    {
     "data": {
      "image/png": "[encoded data removed]",
      "text/plain": [
       "<Figure size 1080x504 with 1 Axes>"
      ]
     },
     "metadata": {
      "needs_background": "light"
     },
     "output_type": "display_data"
    }
   ],
   "source": [
    "_ = plt.figure(figsize=(15,7))\n",
    "df[df['full'] == 'Mohamed Salah'].groupby('round').sum()['total_points'].plot()\n",
    "_ = plt.xticks(np.arange(1,39))\n",
    "_ = plt.ylabel('points')\n",
    "plt.show()"
   ]
  },
  {
   "cell_type": "code",
   "execution_count": 59,
   "metadata": {},
   "outputs": [
    {
     "data": {
      "image/png": "[encoded data removed]",
      "text/plain": [
       "<Figure size 1080x504 with 1 Axes>"
      ]
     },
     "metadata": {
      "needs_background": "light"
     },
     "output_type": "display_data"
    }
   ],
   "source": [
    "_ = plt.figure(figsize=(15,7))\n",
    "df[df['full'] == 'Mohamed Salah'].groupby('round').sum()['goals_scored'].plot()\n",
    "#(df[df['full'] == 'Mohamed Salah'].groupby('round').sum()['creativity'] / 10).plot()\n",
    "_ = plt.xticks(np.arange(1,39))\n",
    "_ = plt.yticks(np.arange(5))\n",
    "_ = plt.ylabel('Goals')\n",
    "plt.show()"
   ]
  },
  {
   "cell_type": "code",
   "execution_count": 61,
   "metadata": {},
   "outputs": [
    {
     "data": {
      "image/png": "[encoded data removed]",
      "text/plain": [
       "<Figure size 1080x504 with 1 Axes>"
      ]
     },
     "metadata": {
      "needs_background": "light"
     },
     "output_type": "display_data"
    }
   ],
   "source": [
    "# df[df['player_name'] == 'Mohamed Salah'].plot(x='round', y='total_points')\n",
    "_ = plt.figure(figsize=(15,7))\n",
    "df[df['full'] == 'Mohamed Salah'].groupby('round').sum()['total_points'].plot(kind='bar')\n",
    "_ = plt.xticks(np.arange(39))\n",
    "_ = plt.ylabel('goals')\n",
    "plt.show()"
   ]
  },
  {
   "cell_type": "code",
   "execution_count": 60,
   "metadata": {},
   "outputs": [
    {
     "data": {
      "image/png": "[encoded data removed]",
      "text/plain": [
       "<Figure size 1080x504 with 1 Axes>"
      ]
     },
     "metadata": {
      "needs_background": "light"
     },
     "output_type": "display_data"
    }
   ],
   "source": [
    "# df[df['player_name'] == 'Mohamed Salah'].plot(x='round', y='total_points')\n",
    "_ = plt.figure(figsize=(15,7))\n",
    "df[df['full'] == 'Mohamed Salah'].groupby('round').sum()['goals_scored'].plot(kind='bar')\n",
    "_ = plt.xticks(np.arange(39))\n",
    "_ = plt.ylabel('goals')\n",
    "plt.show()"
   ]
  },
  {
   "cell_type": "markdown",
   "metadata": {},
   "source": [
    "## Top Ten Teams for total points"
   ]
  },
  {
   "cell_type": "code",
   "execution_count": 65,
   "metadata": {},
   "outputs": [
    {
     "data": {
      "text/plain": [
       "<AxesSubplot:xlabel='team'>"
      ]
     },
     "execution_count": 65,
     "metadata": {},
     "output_type": "execute_result"
    },
    {
     "data": {
      "image/png": "[encoded data removed]",
      "text/plain": [
       "<Figure size 432x288 with 1 Axes>"
      ]
     },
     "metadata": {
      "needs_background": "light"
     },
     "output_type": "display_data"
    }
   ],
   "source": [
    "df.groupby('team').sum()['total_points'].sort_values(ascending=False)[0:10].plot(kind='bar')"
   ]
  },
  {
   "cell_type": "markdown",
   "metadata": {},
   "source": [
    "## Top Ten Players for total points"
   ]
  },
  {
   "cell_type": "code",
   "execution_count": 66,
   "metadata": {},
   "outputs": [
    {
     "data": {
      "image/png": "[encoded data removed]",
      "text/plain": [
       "<Figure size 432x288 with 1 Axes>"
      ]
     },
     "metadata": {
      "needs_background": "light"
     },
     "output_type": "display_data"
    }
   ],
   "source": [
    "df.groupby('full').sum()['total_points'].sort_values(ascending=False)[0:10].plot(kind='bar')\n",
    "_ = plt.ylabel('total points')"
   ]
  },
  {
   "cell_type": "markdown",
   "metadata": {},
   "source": [
    "## Top Ten Teams for Goals"
   ]
  },
  {
   "cell_type": "code",
   "execution_count": 67,
   "metadata": {},
   "outputs": [
    {
     "data": {
      "image/png": "[encoded data removed]",
      "text/plain": [
       "<Figure size 432x288 with 1 Axes>"
      ]
     },
     "metadata": {
      "needs_background": "light"
     },
     "output_type": "display_data"
    }
   ],
   "source": [
    "df.groupby('team').sum()['goals_scored'].sort_values(ascending=False)[0:10].plot(kind='bar')\n",
    "_ = plt.ylabel('total goals')"
   ]
  },
  {
   "cell_type": "markdown",
   "metadata": {},
   "source": [
    "## Top Ten Players for Goals"
   ]
  },
  {
   "cell_type": "code",
   "execution_count": 68,
   "metadata": {},
   "outputs": [
    {
     "data": {
      "image/png": "[encoded data removed]",
      "text/plain": [
       "<Figure size 432x288 with 1 Axes>"
      ]
     },
     "metadata": {
      "needs_background": "light"
     },
     "output_type": "display_data"
    }
   ],
   "source": [
    "df.groupby('full').sum()['goals_scored'].sort_values(ascending=False)[0:10].plot(kind='bar')\n",
    "_ = plt.ylabel('total goals')"
   ]
  },
  {
   "cell_type": "markdown",
   "metadata": {},
   "source": [
    "## Top Ten Players for Assists"
   ]
  },
  {
   "cell_type": "code",
   "execution_count": 69,
   "metadata": {},
   "outputs": [
    {
     "data": {
      "image/png": "[encoded data removed]",
      "text/plain": [
       "<Figure size 432x288 with 1 Axes>"
      ]
     },
     "metadata": {
      "needs_background": "light"
     },
     "output_type": "display_data"
    }
   ],
   "source": [
    "df.groupby('full').sum()['assists'].sort_values(ascending=False)[0:10].plot(kind='bar')\n",
    "_ = plt.ylabel('total assists')"
   ]
  },
  {
   "cell_type": "markdown",
   "metadata": {},
   "source": [
    "## notes\n",
    "- put number above each bar in bar chart\n",
    "- choose colors"
   ]
  },
  {
   "cell_type": "code",
   "execution_count": null,
   "metadata": {},
   "outputs": [],
   "source": []
  }
 ],
 "metadata": {
  "kernelspec": {
   "display_name": "Python 3",
   "language": "python",
   "name": "python3"
  },
  "language_info": {
   "codemirror_mode": {
    "name": "ipython",
    "version": 3
   },
   "file_extension": ".py",
   "mimetype": "text/x-python",
   "name": "python",
   "nbconvert_exporter": "python",
   "pygments_lexer": "ipython3",
   "version": "3.8.5"
  }
 },
 "nbformat": 4,
 "nbformat_minor": 4
}
